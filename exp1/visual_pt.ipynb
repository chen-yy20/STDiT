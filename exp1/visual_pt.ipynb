{
 "cells": [
  {
   "cell_type": "code",
   "execution_count": 11,
   "metadata": {},
   "outputs": [
    {
     "name": "stderr",
     "output_type": "stream",
     "text": [
      "/tmp/ipykernel_22982/1240601398.py:8: FutureWarning: You are using `torch.load` with `weights_only=False` (the current default value), which uses the default pickle module implicitly. It is possible to construct malicious pickle data which will execute arbitrary code during unpickling (See https://github.com/pytorch/pytorch/blob/main/SECURITY.md#untrusted-models for more details). In a future release, the default value for `weights_only` will be flipped to `True`. This limits the functions that could be executed during unpickling. Arbitrary objects will no longer be allowed to be loaded via this mode unless they are explicitly allowlisted by the user via `torch.serialization.add_safe_globals`. We recommend you start setting `weights_only=True` for any use case where you don't have full control of the loaded file. Please open an issue on GitHub for any issues related to this experimental feature.\n",
      "  mask = torch.load(pt_path, map_location=\"cpu\")          # (T-1, H, W), bool 或 0/1\n"
     ]
    },
    {
     "name": "stdout",
     "output_type": "stream",
     "text": [
      "done -> mask_viz\n"
     ]
    }
   ],
   "source": [
    "import torch, os, math\n",
    "import numpy as np\n",
    "import matplotlib.pyplot as plt\n",
    "\n",
    "pt_path = \"temporal_reuse_mask_frames_ep08.pt\"  # 你的pt文件\n",
    "out_dir = \"mask_viz\"; os.makedirs(out_dir, exist_ok=True)\n",
    "\n",
    "mask = torch.load(pt_path, map_location=\"cpu\")          # (T-1, H, W), bool 或 0/1\n",
    "if mask.dtype != torch.bool: mask = mask > 0.5          # 统一成bool\n",
    "mask_np = mask.numpy().astype(np.float32)               # 0/1\n",
    "\n",
    "T_1, H, W = mask_np.shape\n",
    "ncols = 8\n",
    "nrows = math.ceil(T_1 / ncols)\n",
    "\n",
    "# 保存整页网格\n",
    "fig, axes = plt.subplots(nrows, ncols, figsize=(2.2*ncols, 2.2*nrows), squeeze=False)\n",
    "for i in range(nrows*ncols):\n",
    "    r, c = divmod(i, ncols)\n",
    "    ax = axes[r, c]; ax.axis('off')\n",
    "    if i < T_1:\n",
    "        ax.imshow(mask_np[i], cmap=\"gray\", vmin=0, vmax=1)\n",
    "        ax.set_title(f\"F={i+1}\")   # 注意：这是 frame=1..T-1（与第0帧比）\n",
    "plt.tight_layout()\n",
    "plt.savefig(os.path.join(out_dir, \"reuse_mask_grid_08.png\"), dpi=180)\n",
    "plt.close(fig)\n",
    "\n",
    "# 保存单帧图\n",
    "frame_dir = os.path.join(out_dir, \"frames\"); os.makedirs(frame_dir, exist_ok=True)\n",
    "for i in range(T_1):\n",
    "    plt.figure(figsize=(3,3))\n",
    "    plt.imshow(mask_np[i], cmap=\"gray\", vmin=0, vmax=1)\n",
    "    plt.axis('off'); plt.title(f\"F={i+1}\")\n",
    "    plt.tight_layout()\n",
    "    plt.savefig(os.path.join(frame_dir, f\"mask_f{i+1:03d}.png\"), dpi=160)\n",
    "    plt.close()\n",
    "print(\"done ->\", out_dir)\n"
   ]
  },
  {
   "cell_type": "code",
   "execution_count": 4,
   "metadata": {},
   "outputs": [
    {
     "name": "stderr",
     "output_type": "stream",
     "text": [
      "/tmp/ipykernel_15550/3986808768.py:10: FutureWarning: You are using `torch.load` with `weights_only=False` (the current default value), which uses the default pickle module implicitly. It is possible to construct malicious pickle data which will execute arbitrary code during unpickling (See https://github.com/pytorch/pytorch/blob/main/SECURITY.md#untrusted-models for more details). In a future release, the default value for `weights_only` will be flipped to `True`. This limits the functions that could be executed during unpickling. Arbitrary objects will no longer be allowed to be loaded via this mode unless they are explicitly allowlisted by the user via `torch.serialization.add_safe_globals`. We recommend you start setting `weights_only=True` for any use case where you don't have full control of the loaded file. Please open an issue on GitHub for any issues related to this experimental feature.\n",
      "  max_diff = torch.load(pt_path, map_location=\"cpu\")  # (T-1, H, W)\n"
     ]
    },
    {
     "name": "stdout",
     "output_type": "stream",
     "text": [
      "saved -> maxdiff_grid.png\n",
      "saved -> maxdiff.gif\n"
     ]
    }
   ],
   "source": [
    "import torch, os, math\n",
    "import matplotlib.pyplot as plt\n",
    "import numpy as np\n",
    "import imageio.v2 as imageio\n",
    "\n",
    "pt_path = \"second_order_gap.pt\"\n",
    "out_dir = \"viz_maxdiff\"; os.makedirs(out_dir, exist_ok=True)\n",
    "\n",
    "# 加载数据\n",
    "max_diff = torch.load(pt_path, map_location=\"cpu\")  # (T-1, H, W)\n",
    "max_diff = max_diff.float().numpy()\n",
    "\n",
    "T_1, H, W = max_diff.shape\n",
    "\n",
    "# ---- 网格图 ----\n",
    "ncols = 8\n",
    "nrows = math.ceil(T_1 / ncols)\n",
    "fig, axes = plt.subplots(nrows, ncols, figsize=(2.2*ncols, 2.2*nrows), squeeze=False)\n",
    "\n",
    "vmin, vmax = np.percentile(max_diff, 1), np.percentile(max_diff, 99)  # 用分位数做归一化，避免极值影响\n",
    "for i in range(nrows*ncols):\n",
    "    r, c = divmod(i, ncols)\n",
    "    ax = axes[r, c]; ax.axis('off')\n",
    "    if i < T_1:\n",
    "        ax.imshow(max_diff[i], cmap=\"viridis\", vmin=vmin, vmax=vmax)\n",
    "        ax.set_title(f\"F={i+1}\", fontsize=8)  # 注意这里是相对于 frame=0 的第 i+1 帧\n",
    "plt.tight_layout()\n",
    "plt.savefig(os.path.join(out_dir, \"maxdiff_grid.png\"), dpi=180)\n",
    "plt.close()\n",
    "print(\"saved -> maxdiff_grid.png\")\n",
    "\n",
    "# ---- 单帧热力图 ----\n",
    "for i in range(T_1):\n",
    "    plt.figure(figsize=(3,3))\n",
    "    plt.imshow(max_diff[i], cmap=\"viridis\", vmin=vmin, vmax=vmax)\n",
    "    plt.colorbar(label=\"L2 difference\")\n",
    "    plt.title(f\"Frame {i+1} vs Frame 0\")\n",
    "    plt.axis('off')\n",
    "    plt.tight_layout()\n",
    "    plt.savefig(os.path.join(out_dir, f\"maxdiff_f{i+1:03d}.png\"), dpi=160)\n",
    "    plt.close()\n",
    "\n",
    "# ---- GIF ----\n",
    "frames = []\n",
    "for i in range(T_1):\n",
    "    arr = (np.clip((max_diff[i]-vmin)/(vmax-vmin), 0, 1)*255).astype(np.uint8)\n",
    "    rgb = plt.cm.viridis(arr/255.0)[..., :3]   # 用 viridis colormap 转成 RGB\n",
    "    rgb = (rgb*255).astype(np.uint8)\n",
    "    frames.append(rgb)\n",
    "imageio.mimsave(os.path.join(out_dir, \"maxdiff.gif\"), frames, fps=5)\n",
    "print(\"saved -> maxdiff.gif\")\n"
   ]
  },
  {
   "cell_type": "code",
   "execution_count": null,
   "metadata": {},
   "outputs": [],
   "source": []
  }
 ],
 "metadata": {
  "kernelspec": {
   "display_name": "base",
   "language": "python",
   "name": "python3"
  },
  "language_info": {
   "codemirror_mode": {
    "name": "ipython",
    "version": 3
   },
   "file_extension": ".py",
   "mimetype": "text/x-python",
   "name": "python",
   "nbconvert_exporter": "python",
   "pygments_lexer": "ipython3",
   "version": "3.12.2"
  }
 },
 "nbformat": 4,
 "nbformat_minor": 2
}
